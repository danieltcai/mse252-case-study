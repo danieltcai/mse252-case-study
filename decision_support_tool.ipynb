{
 "cells": [
  {
   "cell_type": "markdown",
   "metadata": {},
   "source": [
    "# MS&E 252 Case Study Decision Support Tool\n",
    "\n",
    "Here is a brief description of the decision support tool and how to use it.<br/>\n",
    "(e.g. Contents of this file, how to run cells, where to input beliefs etc)"
   ]
  },
  {
   "cell_type": "markdown",
   "metadata": {},
   "source": [
    "## Try running these cells and playing with the inputs slider"
   ]
  },
  {
   "cell_type": "code",
   "execution_count": null,
   "metadata": {},
   "outputs": [],
   "source": [
    "import ipywidgets as widgets\n",
    "from ipywidgets import HBox, VBox\n",
    "from IPython.display import display\n",
    "from IPython.display import clear_output\n"
   ]
  },
  {
   "cell_type": "code",
   "execution_count": null,
   "metadata": {},
   "outputs": [],
   "source": [
    "prob_rain = widgets.FloatSlider(\n",
    "    value=0.66,\n",
    "    min=0.,\n",
    "    max=1.,\n",
    "    step=0.01,\n",
    "    description='Rain:',\n",
    ")"
   ]
  },
  {
   "cell_type": "code",
   "execution_count": null,
   "metadata": {},
   "outputs": [],
   "source": [
    "price_bottle_botrytis = widgets.IntSlider(\n",
    "    value=80,\n",
    "    min=0,\n",
    "    max=100,\n",
    "    step=1,\n",
    "    description='Botyrtis:',\n",
    ")\n",
    "price_bottle_sugar25 = widgets.IntSlider(\n",
    "    value=35,\n",
    "    min=0,\n",
    "    max=100,\n",
    "    step=1,\n",
    "    description='Sugar 25%:',\n",
    ")\n",
    "price_bottle_sugar20 = widgets.IntSlider(\n",
    "    value=30,\n",
    "    min=0,\n",
    "    max=100,\n",
    "    step=1,\n",
    "    description='Sugar 20%:',\n",
    ")\n",
    "price_bottle_lowacidity = widgets.IntSlider(\n",
    "    value=20,\n",
    "    min=0,\n",
    "    max=100,\n",
    "    step=1,\n",
    "    description='Acitity <0.7%:',\n",
    ")"
   ]
  },
  {
   "cell_type": "code",
   "execution_count": null,
   "metadata": {},
   "outputs": [],
   "source": [
    "value_reputation_botrytis = widgets.IntSlider(\n",
    "    value=-5000,\n",
    "    min=-5000,\n",
    "    max=5000,\n",
    "    step=100,\n",
    "    description='Botyrtis:',\n",
    ")"
   ]
  },
  {
   "cell_type": "code",
   "execution_count": null,
   "metadata": {},
   "outputs": [],
   "source": [
    "tab1 = VBox(children=[prob_rain,\n",
    "                     ])\n",
    "tab2 = VBox(children=[price_bottle_botrytis,\n",
    "                      price_bottle_sugar25,\n",
    "                      price_bottle_sugar20,\n",
    "                      price_bottle_lowacidity\n",
    "                     ])\n",
    "tab3 = VBox(children=[value_reputation_botrytis,\n",
    "                    ])\n",
    "\n",
    "tab = widgets.Tab(children=[tab1, tab2, tab3])\n",
    "tab.set_title(0, 'Probabilities')\n",
    "tab.set_title(1, 'Prices per bottle')\n",
    "tab.set_title(2, 'Value of reputation')\n",
    "button = widgets.Button(\n",
    "    description='Calculate',\n",
    ")\n",
    "\n",
    "@button.on_click\n",
    "def calculate(b):\n",
    "    global prob_rain, prob_mold_given_spores, prob_mold_given_nospores\n",
    "    global prob_acidity_over_07, prob_sugar_25\n",
    "    global price_bottle_botrytis, price_bottle_25sugar, price_bottle_20sugar, price_bottle_lowacidity\n",
    "\n",
    "    print(\"Insert decision here based on facts:\")\n",
    "    print(\"price of bottle of botrytis wine = %d\" % (price_bottle_botrytis.value))\n",
    "#     prob_rain = prob_rain.value\n",
    "    prob_mold_given_spores = 1.0\n",
    "    prob_mold_given_nospores = 0.4\n",
    "    prob_acidity_over_07 = 0.8\n",
    "    prob_sugar_25 = 0.5\n",
    "    \n",
    "    \n",
    "#     price_bottle_botrytis = price_bottle_botrytis.value\n",
    "#     price_bottle_25sugar = price_bottle_25sugar.value\n",
    "#     price_bottle_20sugar = price_bottle_20sugar.value\n",
    "#     price_bottle_lowacidity = price_bottle_lowacidity.value\n",
    "\n",
    "    \n",
    "VBox(children=[tab, button])"
   ]
  },
  {
   "cell_type": "markdown",
   "metadata": {},
   "source": [
    "# Stop here"
   ]
  },
  {
   "cell_type": "code",
   "execution_count": null,
   "metadata": {},
   "outputs": [],
   "source": []
  },
  {
   "cell_type": "code",
   "execution_count": null,
   "metadata": {},
   "outputs": [],
   "source": []
  },
  {
   "cell_type": "code",
   "execution_count": null,
   "metadata": {},
   "outputs": [],
   "source": []
  },
  {
   "cell_type": "code",
   "execution_count": null,
   "metadata": {},
   "outputs": [],
   "source": [
    "freq_slider = widgets.FloatSlider(\n",
    "    value=2.,\n",
    "    min=1.,\n",
    "    max=10.0,\n",
    "    step=0.1,\n",
    "    description='Frequency:',\n",
    "    readout_format='.1f',\n",
    ")\n",
    "\n",
    "range_slider = widgets.FloatRangeSlider(\n",
    "    value=[-1., +1.],\n",
    "    min=-5., max=+5., step=0.1,\n",
    "    description='xlim:',\n",
    "    readout_format='.1f',\n",
    ")\n",
    "\n",
    "grid_button = widgets.ToggleButton(\n",
    "    value=False,\n",
    "    description='Grid',\n",
    "    icon='check'\n",
    ")\n",
    "color_buttons = widgets.ToggleButtons(\n",
    "    options=['blue', 'red', 'green'],\n",
    "    description='Color:',\n",
    ")\n",
    "title_textbox = widgets.Text(\n",
    "    value='Hello World',\n",
    "    description='Title:',\n",
    ")\n",
    "color_picker = widgets.ColorPicker(\n",
    "    concise=True,\n",
    "    description='Background color:',\n",
    "    value='#efefef',\n",
    ")\n",
    "button = widgets.Button(\n",
    "    description='Calculate',\n",
    ")\n",
    "\n",
    "def plot2(b=None):\n",
    "    xlim = range_slider.value\n",
    "    freq = freq_slider.value\n",
    "    grid = grid_button.value\n",
    "    color = color_buttons.value\n",
    "    title = title_textbox.value\n",
    "    bgcolor = color_picker.value\n",
    "    print(\"xlim\",xlim)\n",
    "@button.on_click\n",
    "def plot_on_click(b):\n",
    "    plot2()\n",
    "\n",
    "\n",
    "tab1 = VBox(children=[freq_slider,\n",
    "                      range_slider,\n",
    "                      ])\n",
    "tab2 = VBox(children=[color_buttons,\n",
    "                      HBox(children=[title_textbox,\n",
    "                                     color_picker,\n",
    "                                     grid_button]),\n",
    "                                     ])\n",
    "tab = widgets.Tab(children=[tab1, tab2])\n",
    "tab.set_title(0, 'Probabilities')\n",
    "tab.set_title(1, 'Prices and Costs')\n",
    "VBox(children=[tab, button])"
   ]
  },
  {
   "cell_type": "code",
   "execution_count": null,
   "metadata": {},
   "outputs": [],
   "source": [
    "import ipywidgets as widgets\n",
    "from ipywidgets import HBox, VBox\n",
    "from IPython.display import display\n",
    "\n",
    "@widgets.interact_manual(\n",
    "    prob_rain=(0.0, 1.0))\n",
    "def decide(prob_rain=0.5,\n",
    "#            prob_mold_given_spores_rain,\n",
    "#            prob_mold_given_spores_norain,\n",
    "#            prob_acidity_over_07,\n",
    "#            prob_sugar_25,\n",
    "#            prob_sugar_20,\n",
    "#            prob_mold_given_nospores_rain,\n",
    "#            prob_mold_given_nospores_norain,\n",
    "#            price_bottle_botrytis,\n",
    "#            price_bottle_25sugar,\n",
    "#            price_bottle_20sugar,\n",
    "#            price_bottle_lowacidity,\n",
    "           ):\n",
    "    print(prob_rain)\n",
    "    "
   ]
  },
  {
   "cell_type": "code",
   "execution_count": null,
   "metadata": {},
   "outputs": [],
   "source": [
    "import ipywidgets as widgets\n",
    "from ipywidgets import HBox, VBox\n",
    "from IPython.display import display\n",
    "\n",
    "@widgets.interact_manual(\n",
    "    color=['blue', 'red', 'green'],\n",
    "    lw=(1., 10.))\n",
    "def plot(freq=1., color='blue', lw=2, grid=True)"
   ]
  },
  {
   "cell_type": "code",
   "execution_count": null,
   "metadata": {},
   "outputs": [],
   "source": [
    "def fun():\n",
    "    print(foo)\n",
    "    print(bar)\n",
    "fun()"
   ]
  },
  {
   "cell_type": "code",
   "execution_count": null,
   "metadata": {},
   "outputs": [],
   "source": []
  }
 ],
 "metadata": {
  "kernelspec": {
   "display_name": "Python 3",
   "language": "python",
   "name": "python3"
  },
  "language_info": {
   "codemirror_mode": {
    "name": "ipython",
    "version": 3
   },
   "file_extension": ".py",
   "mimetype": "text/x-python",
   "name": "python",
   "nbconvert_exporter": "python",
   "pygments_lexer": "ipython3",
   "version": "3.7.3"
  }
 },
 "nbformat": 4,
 "nbformat_minor": 2
}
