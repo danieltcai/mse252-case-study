{
 "cells": [
  {
   "cell_type": "markdown",
   "metadata": {},
   "source": [
    "# MS&E 252 Case Study Decision Support Tool\n",
    "\n",
    "Here is a brief description of the decision support tool and how to use it.<br/>\n",
    "(e.g. Contents of this file, how to run cells, where to input beliefs etc)"
   ]
  },
  {
   "cell_type": "markdown",
   "metadata": {},
   "source": [
    "## Try running these cells and playing with the inputs slider"
   ]
  },
  {
   "cell_type": "code",
   "execution_count": null,
   "metadata": {},
   "outputs": [],
   "source": [
    "import ipywidgets as widgets\n",
    "from ipywidgets import HBox, VBox\n",
    "from IPython.display import display\n",
    "from IPython.display import clear_output\n",
    "try:\n",
    "    __import__(\"matplotlib\")\n",
    "    import matplotlib.pyplot as plt\n",
    "    print(\"Import success\")\n",
    "except ImportError:\n",
    "    print(\"Attempting to install matplotlib...\")\n",
    "    import os\n",
    "    os.system(\"pip install matplotlib\")\n",
    "    import matplotlib.pyplot as plt\n",
    "    print(\"Installation success\")"
   ]
  },
  {
   "cell_type": "markdown",
   "metadata": {},
   "source": [
    "## Probability wheel\n",
    "Some description of how to use it\n",
    "\n",
    "### Would love if someone could help me out with this part. Not exactly sure what the TAs are looking for"
   ]
  },
  {
   "cell_type": "code",
   "execution_count": null,
   "metadata": {},
   "outputs": [],
   "source": [
    "@widgets.interact_manual(\n",
    "    Probability=(0.0, 1.0, 0.01))\n",
    "def prob_wheel(Probability=0.3):\n",
    "    labels = 'Occurs', 'Does not occur'\n",
    "    sizes = [Probability, 1 - Probability]\n",
    "    explode = (0.1, 0)  \n",
    "    fig1, ax1 = plt.subplots()\n",
    "    ax1.pie(sizes, explode=explode, labels=labels, autopct='%1.1f%%',\n",
    "            shadow=True, startangle=90)\n",
    "    ax1.axis('equal')\n",
    "    plt.title(\"FILL IN INFORMATION HERE\")\n",
    "    plt.show()\n",
    "    # https://matplotlib.org/gallery/pie_and_polar_charts/pie_features.html"
   ]
  },
  {
   "cell_type": "markdown",
   "metadata": {},
   "source": [
    "## Decision calculation\n",
    "Some descrition of how to use this\n",
    "\n",
    "### TODO(Daniel): Implement decision calculation"
   ]
  },
  {
   "cell_type": "code",
   "execution_count": null,
   "metadata": {},
   "outputs": [],
   "source": [
    "style = {'description_width': 'auto'}\n",
    "prob_rain = widgets.FloatSlider(\n",
    "    value=0.66,\n",
    "    min=0.,\n",
    "    max=1.,\n",
    "    step=0.01,\n",
    "    description='Rain:',\n",
    "    style=style,\n",
    ")\n",
    "prob_mold_given_nospore = widgets.FloatSlider(\n",
    "    value=0.4,\n",
    "    min=0.,\n",
    "    max=1.,\n",
    "    step=0.01,\n",
    "    description='Mold w/o spore',\n",
    "    style=style,\n",
    ")\n",
    "prob_acid_g07 = widgets.FloatSlider(\n",
    "    value=0.8,\n",
    "    min=0.,\n",
    "    max=1.,\n",
    "    step=0.01,\n",
    "    description='Acid >0.7%:',\n",
    "    style=style,\n",
    ")\n",
    "prob_sugar25 = widgets.FloatSlider(\n",
    "    value=0.5,\n",
    "    min=0.,\n",
    "    max=1.,\n",
    "    step=0.01,\n",
    "    description='Sugar 25%:',\n",
    "    style=style,\n",
    ")"
   ]
  },
  {
   "cell_type": "code",
   "execution_count": null,
   "metadata": {},
   "outputs": [],
   "source": [
    "price_bottle_botrytis = widgets.IntSlider(\n",
    "    value=80,\n",
    "    min=0,\n",
    "    max=100,\n",
    "    step=1,\n",
    "    description='Botyrtis:',\n",
    "    style=style,\n",
    ")\n",
    "price_bottle_sugar25 = widgets.IntSlider(\n",
    "    value=35,\n",
    "    min=0,\n",
    "    max=100,\n",
    "    step=1,\n",
    "    description='Sugar 25%:',\n",
    "    style=style,\n",
    ")\n",
    "price_bottle_sugar20 = widgets.IntSlider(\n",
    "    value=30,\n",
    "    min=0,\n",
    "    max=100,\n",
    "    step=1,\n",
    "    description='Sugar 20%:',\n",
    "    style=style,\n",
    ")\n",
    "price_bottle_lowacidity = widgets.IntSlider(\n",
    "    value=20,\n",
    "    min=0,\n",
    "    max=100,\n",
    "    step=1,\n",
    "    description='Acitity <0.7%:',\n",
    "    style=style,\n",
    ")"
   ]
  },
  {
   "cell_type": "code",
   "execution_count": null,
   "metadata": {},
   "outputs": [],
   "source": [
    "value_reputation_botrytis = widgets.IntSlider(\n",
    "    value=-5000,\n",
    "    min=-5000,\n",
    "    max=5000,\n",
    "    step=100,\n",
    "    description='Botyrtis:',\n",
    "    style=style,\n",
    ")"
   ]
  },
  {
   "cell_type": "code",
   "execution_count": null,
   "metadata": {
    "scrolled": true
   },
   "outputs": [],
   "source": [
    "tab1 = VBox(children=[prob_rain,\n",
    "                      prob_mold_given_nospore,\n",
    "                      prob_acid_g07,\n",
    "                      prob_sugar25,\n",
    "                     ])\n",
    "tab2 = VBox(children=[price_bottle_botrytis,\n",
    "                      price_bottle_sugar25,\n",
    "                      price_bottle_sugar20,\n",
    "                      price_bottle_lowacidity\n",
    "                     ])\n",
    "tab3 = VBox(children=[value_reputation_botrytis,\n",
    "                    ])\n",
    "\n",
    "tab = widgets.Tab(children=[tab1, tab2, tab3])\n",
    "tab.set_title(0, 'Probabilities')\n",
    "tab.set_title(1, 'Prices per bottle')\n",
    "tab.set_title(2, 'Value of reputation')\n",
    "button = widgets.Button(\n",
    "    description='Calculate',\n",
    ")\n",
    "\n",
    "@button.on_click\n",
    "def calculate(b):\n",
    "    global prob_rain, prob_mold_given_spores, prob_acidity_over_07, prob_sugar_25\n",
    "    global price_bottle_botrytis, price_bottle_25sugar, price_bottle_20sugar, price_bottle_lowacidity\n",
    "\n",
    "    print(\"Insert decision here based on facts:\")\n",
    "    print(\"price of bottle of botrytis wine = %d\" % (price_bottle_botrytis.value))\n",
    "    \n",
    "    #TODO(Daniel): Fill out decision calculation logic!!\n",
    "\n",
    "VBox(children=[tab, button])"
   ]
  }
 ],
 "metadata": {
  "kernelspec": {
   "display_name": "Python 2",
   "language": "python",
   "name": "python2"
  },
  "language_info": {
   "codemirror_mode": {
    "name": "ipython",
    "version": 2
   },
   "file_extension": ".py",
   "mimetype": "text/x-python",
   "name": "python",
   "nbconvert_exporter": "python",
   "pygments_lexer": "ipython2",
   "version": "2.7.16"
  }
 },
 "nbformat": 4,
 "nbformat_minor": 2
}
